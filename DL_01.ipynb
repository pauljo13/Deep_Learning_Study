{
 "cells": [
  {
   "cell_type": "markdown",
   "metadata": {},
   "source": [
    "# perceptron\n",
    "Frank Rosenblatt가 1957년 고안한 알고리즘으로 현재의 신경망(Deep learning)의 기원\n",
    "- Perceptron : 다수의 신호를 입력으로 받아 하나의 신호를 출력\n",
    "    - y = {0 (w1x1 + w2x2 <= ⍬)}\n",
    "        = {1 (w1x1 + w2x2 > ⍬)}\n",
    "        "
   ]
  },
  {
   "cell_type": "code",
   "execution_count": 4,
   "metadata": {},
   "outputs": [],
   "source": [
    "def perceptron(x1, x2):\n",
    "    w1, w2, theta = 0.5, 0.5, 1.0\n",
    "    y = x1*w1 + x2*w2\n",
    "    if y > theta:\n",
    "        return 1\n",
    "    else:\n",
    "        return 0"
   ]
  },
  {
   "cell_type": "code",
   "execution_count": 5,
   "metadata": {},
   "outputs": [
    {
     "data": {
      "text/plain": [
       "0"
      ]
     },
     "execution_count": 5,
     "metadata": {},
     "output_type": "execute_result"
    }
   ],
   "source": [
    "perceptron(0, 0)"
   ]
  },
  {
   "cell_type": "markdown",
   "metadata": {},
   "source": [
    "## 논리회로\n",
    "- AND\n",
    "    - 신호 둘 중 모두가 1이면 1이 출력 남어지는 0으로 출력\n",
    "- NAND\n",
    "    - AND의 출력값의 반대로 출력\n",
    "    - AND의 매개변수의 부호를 모두 반전\n",
    "- OR\n",
    "    - 신호 둘 중 하나라도 1이면 1이 출력 모두 0 이면 0을 출력"
   ]
  },
  {
   "cell_type": "code",
   "execution_count": 6,
   "metadata": {},
   "outputs": [],
   "source": [
    "def AND(x1, x2):\n",
    "    w1, w2 , theta = 0.5, 0.5, 0.7\n",
    "    y = x1*w1 + x2*w2\n",
    "    if y <= theta:\n",
    "        return 0\n",
    "    else:\n",
    "        return 1"
   ]
  },
  {
   "cell_type": "code",
   "execution_count": 8,
   "metadata": {},
   "outputs": [
    {
     "name": "stdout",
     "output_type": "stream",
     "text": [
      "0 | 0 =  0\n",
      "0 | 1 =  0\n",
      "1 | 0 =  0\n",
      "1 | 1 =  1\n"
     ]
    }
   ],
   "source": [
    "print(\"0 | 0 = \", AND(0,0))\n",
    "print(\"0 | 1 = \", AND(0,1))\n",
    "print(\"1 | 0 = \", AND(1,0))\n",
    "print(\"1 | 1 = \", AND(1,1))"
   ]
  },
  {
   "cell_type": "code",
   "execution_count": 9,
   "metadata": {},
   "outputs": [],
   "source": [
    "def NAND(x1, x2):\n",
    "    w1, w2 , theta = -0.5, -0.5, -0.7\n",
    "    y = x1*w1 + x2*w2\n",
    "    if y <= theta:\n",
    "        return 0\n",
    "    else:\n",
    "        return 1"
   ]
  },
  {
   "cell_type": "code",
   "execution_count": 10,
   "metadata": {},
   "outputs": [
    {
     "name": "stdout",
     "output_type": "stream",
     "text": [
      "0 | 0 =  1\n",
      "0 | 1 =  1\n",
      "1 | 0 =  1\n",
      "1 | 1 =  0\n"
     ]
    }
   ],
   "source": [
    "print(\"0 | 0 = \", NAND(0,0))\n",
    "print(\"0 | 1 = \", NAND(0,1))\n",
    "print(\"1 | 0 = \", NAND(1,0))\n",
    "print(\"1 | 1 = \", NAND(1,1))"
   ]
  },
  {
   "cell_type": "code",
   "execution_count": 15,
   "metadata": {},
   "outputs": [],
   "source": [
    "def OR(x1, x2):\n",
    "    w1, w2 , theta = 1, 1, 0\n",
    "    y = x1*w1 + x2*w2\n",
    "    if y <= theta:\n",
    "        return 0\n",
    "    else:\n",
    "        return 1"
   ]
  },
  {
   "cell_type": "code",
   "execution_count": 16,
   "metadata": {},
   "outputs": [
    {
     "name": "stdout",
     "output_type": "stream",
     "text": [
      "0 | 0 =  0\n",
      "0 | 1 =  1\n",
      "1 | 0 =  1\n",
      "1 | 1 =  1\n"
     ]
    }
   ],
   "source": [
    "print(\"0 | 0 = \", OR(0,0))\n",
    "print(\"0 | 1 = \", OR(0,1))\n",
    "print(\"1 | 0 = \", OR(1,0))\n",
    "print(\"1 | 1 = \", OR(1,1))"
   ]
  },
  {
   "cell_type": "markdown",
   "metadata": {},
   "source": [
    "## 가중치와 편향 도입\n"
   ]
  },
  {
   "cell_type": "code",
   "execution_count": null,
   "metadata": {},
   "outputs": [],
   "source": []
  }
 ],
 "metadata": {
  "kernelspec": {
   "display_name": "Python 3",
   "language": "python",
   "name": "python3"
  },
  "language_info": {
   "codemirror_mode": {
    "name": "ipython",
    "version": 3
   },
   "file_extension": ".py",
   "mimetype": "text/x-python",
   "name": "python",
   "nbconvert_exporter": "python",
   "pygments_lexer": "ipython3",
   "version": "3.8.19"
  }
 },
 "nbformat": 4,
 "nbformat_minor": 2
}
